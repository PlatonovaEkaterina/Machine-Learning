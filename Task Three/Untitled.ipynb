{
 "cells": [
  {
   "cell_type": "markdown",
   "id": "a1afafc6",
   "metadata": {},
   "source": [
    "1. Найдите данные, на которых можно решить задачу Multiclass classification (классификация с более чем двумя классами). В крайнем случае преобразуйте данные, предназначенные для другой задачи.\n"
   ]
  },
  {
   "cell_type": "markdown",
   "id": "faf7259b",
   "metadata": {},
   "source": [
    "Для решения задачи был взят датасет о данных COVID-19"
   ]
  },
  {
   "cell_type": "code",
   "execution_count": 385,
   "id": "c0a12924",
   "metadata": {},
   "outputs": [],
   "source": [
    "\n",
    "import pandas as pd\n",
    "\n",
    "data = pd.read_csv('Covid_Data.csv')"
   ]
  },
  {
   "cell_type": "markdown",
   "id": "d6370a30",
   "metadata": {},
   "source": [
    "\n",
    "В логических функциях 1 означает «да», а 2 означает «нет». \n",
    "\n",
    "• SEX: 1 для женщин и 2 для мужчин.\n",
    "\n",
    "• AGE: пациента.\n",
    "\n",
    "• CLASIFFICATION_FINAL: результаты тестов covid. Значения 1-3 означают, что у пациента диагностировали ковид в разной степени.\n",
    "4 или выше означает, что пациент не является носителем ковида или что тест не дает результатов.\n",
    "\n",
    "• PATIENT_TYPE: тип лечения, полученного пациентом в отделении. 1 для возвращения домой и 2 для госпитализации.\n",
    "\n",
    "• PNEUMONIA: есть ли у пациента уже воспаление воздухоносных мешков или нет.\n",
    "\n",
    "• PREGNANT: беременна пациентка или нет.\n",
    "\n",
    "• DIABETES: есть ли у пациента диабет или нет.\n",
    "\n",
    "• COPD: Указывает, есть ли у пациента хроническая обструктивная болезнь легких или нет.\n",
    "\n",
    "• ASTHMA: есть ли у пациента астма или нет.\n",
    "\n",
    "• INMSUPR: есть ли у пациента иммуносупрессия или нет.\n",
    "\n",
    "• HIPERTENSION: есть ли у пациента гипертония или нет.\n",
    "\n",
    "• CARDIOVASCULAR: есть ли у пациента заболевания, связанные с сердцем или кровеносными сосудами.\n",
    "\n",
    "• RENAL_CHRONIC: имеет ли пациент хроническую почечную болезнь или нет.\n",
    "\n",
    "• OTHER_DISEASE: есть ли у пациента другое заболевание или нет.\n",
    "\n",
    "• OBESITY: страдает ли пациент ожирением или нет.\n",
    "\n",
    "• TOBACCO: является ли пациент курильщиком.\n",
    "\n",
    "• USMER: Указывает, лечился ли пациент в медсанчастях первого, второго или третьего уровня.\n",
    "\n",
    "• MEDICAL_UNIT: тип учреждения национальной системы здравоохранения, предоставившего помощь.\n",
    "\n",
    "• INTUBED: был ли пациент подключен к аппарату искусственной вентиляции легких.\n",
    "\n",
    "• ICU: указывает, был ли пациент госпитализирован в отделение интенсивной терапии.\n",
    "\n",
    "• DATE_DIED: Если пациент умер, укажите дату смерти, иначе 9999-99-99.\n"
   ]
  },
  {
   "cell_type": "code",
   "execution_count": 270,
   "id": "d3f66e11",
   "metadata": {
    "scrolled": true
   },
   "outputs": [
    {
     "data": {
      "text/html": [
       "<div>\n",
       "<style scoped>\n",
       "    .dataframe tbody tr th:only-of-type {\n",
       "        vertical-align: middle;\n",
       "    }\n",
       "\n",
       "    .dataframe tbody tr th {\n",
       "        vertical-align: top;\n",
       "    }\n",
       "\n",
       "    .dataframe thead th {\n",
       "        text-align: right;\n",
       "    }\n",
       "</style>\n",
       "<table border=\"1\" class=\"dataframe\">\n",
       "  <thead>\n",
       "    <tr style=\"text-align: right;\">\n",
       "      <th></th>\n",
       "      <th>USMER</th>\n",
       "      <th>MEDICAL_UNIT</th>\n",
       "      <th>SEX</th>\n",
       "      <th>PATIENT_TYPE</th>\n",
       "      <th>DATE_DIED</th>\n",
       "      <th>INTUBED</th>\n",
       "      <th>PNEUMONIA</th>\n",
       "      <th>AGE</th>\n",
       "      <th>PREGNANT</th>\n",
       "      <th>DIABETES</th>\n",
       "      <th>...</th>\n",
       "      <th>ASTHMA</th>\n",
       "      <th>INMSUPR</th>\n",
       "      <th>HIPERTENSION</th>\n",
       "      <th>OTHER_DISEASE</th>\n",
       "      <th>CARDIOVASCULAR</th>\n",
       "      <th>OBESITY</th>\n",
       "      <th>RENAL_CHRONIC</th>\n",
       "      <th>TOBACCO</th>\n",
       "      <th>CLASIFFICATION_FINAL</th>\n",
       "      <th>ICU</th>\n",
       "    </tr>\n",
       "  </thead>\n",
       "  <tbody>\n",
       "    <tr>\n",
       "      <th>0</th>\n",
       "      <td>2</td>\n",
       "      <td>1</td>\n",
       "      <td>1</td>\n",
       "      <td>1</td>\n",
       "      <td>03/05/2020</td>\n",
       "      <td>97</td>\n",
       "      <td>1</td>\n",
       "      <td>65</td>\n",
       "      <td>2</td>\n",
       "      <td>2</td>\n",
       "      <td>...</td>\n",
       "      <td>2</td>\n",
       "      <td>2</td>\n",
       "      <td>1</td>\n",
       "      <td>2</td>\n",
       "      <td>2</td>\n",
       "      <td>2</td>\n",
       "      <td>2</td>\n",
       "      <td>2</td>\n",
       "      <td>3</td>\n",
       "      <td>97</td>\n",
       "    </tr>\n",
       "    <tr>\n",
       "      <th>1</th>\n",
       "      <td>2</td>\n",
       "      <td>1</td>\n",
       "      <td>2</td>\n",
       "      <td>1</td>\n",
       "      <td>03/06/2020</td>\n",
       "      <td>97</td>\n",
       "      <td>1</td>\n",
       "      <td>72</td>\n",
       "      <td>97</td>\n",
       "      <td>2</td>\n",
       "      <td>...</td>\n",
       "      <td>2</td>\n",
       "      <td>2</td>\n",
       "      <td>1</td>\n",
       "      <td>2</td>\n",
       "      <td>2</td>\n",
       "      <td>1</td>\n",
       "      <td>1</td>\n",
       "      <td>2</td>\n",
       "      <td>5</td>\n",
       "      <td>97</td>\n",
       "    </tr>\n",
       "    <tr>\n",
       "      <th>2</th>\n",
       "      <td>2</td>\n",
       "      <td>1</td>\n",
       "      <td>2</td>\n",
       "      <td>2</td>\n",
       "      <td>09/06/2020</td>\n",
       "      <td>1</td>\n",
       "      <td>2</td>\n",
       "      <td>55</td>\n",
       "      <td>97</td>\n",
       "      <td>1</td>\n",
       "      <td>...</td>\n",
       "      <td>2</td>\n",
       "      <td>2</td>\n",
       "      <td>2</td>\n",
       "      <td>2</td>\n",
       "      <td>2</td>\n",
       "      <td>2</td>\n",
       "      <td>2</td>\n",
       "      <td>2</td>\n",
       "      <td>3</td>\n",
       "      <td>2</td>\n",
       "    </tr>\n",
       "    <tr>\n",
       "      <th>3</th>\n",
       "      <td>2</td>\n",
       "      <td>1</td>\n",
       "      <td>1</td>\n",
       "      <td>1</td>\n",
       "      <td>12/06/2020</td>\n",
       "      <td>97</td>\n",
       "      <td>2</td>\n",
       "      <td>53</td>\n",
       "      <td>2</td>\n",
       "      <td>2</td>\n",
       "      <td>...</td>\n",
       "      <td>2</td>\n",
       "      <td>2</td>\n",
       "      <td>2</td>\n",
       "      <td>2</td>\n",
       "      <td>2</td>\n",
       "      <td>2</td>\n",
       "      <td>2</td>\n",
       "      <td>2</td>\n",
       "      <td>7</td>\n",
       "      <td>97</td>\n",
       "    </tr>\n",
       "    <tr>\n",
       "      <th>4</th>\n",
       "      <td>2</td>\n",
       "      <td>1</td>\n",
       "      <td>2</td>\n",
       "      <td>1</td>\n",
       "      <td>21/06/2020</td>\n",
       "      <td>97</td>\n",
       "      <td>2</td>\n",
       "      <td>68</td>\n",
       "      <td>97</td>\n",
       "      <td>1</td>\n",
       "      <td>...</td>\n",
       "      <td>2</td>\n",
       "      <td>2</td>\n",
       "      <td>1</td>\n",
       "      <td>2</td>\n",
       "      <td>2</td>\n",
       "      <td>2</td>\n",
       "      <td>2</td>\n",
       "      <td>2</td>\n",
       "      <td>3</td>\n",
       "      <td>97</td>\n",
       "    </tr>\n",
       "  </tbody>\n",
       "</table>\n",
       "<p>5 rows × 21 columns</p>\n",
       "</div>"
      ],
      "text/plain": [
       "   USMER  MEDICAL_UNIT  SEX  PATIENT_TYPE   DATE_DIED  INTUBED  PNEUMONIA  \\\n",
       "0      2             1    1             1  03/05/2020       97          1   \n",
       "1      2             1    2             1  03/06/2020       97          1   \n",
       "2      2             1    2             2  09/06/2020        1          2   \n",
       "3      2             1    1             1  12/06/2020       97          2   \n",
       "4      2             1    2             1  21/06/2020       97          2   \n",
       "\n",
       "   AGE  PREGNANT  DIABETES  ...  ASTHMA  INMSUPR  HIPERTENSION  OTHER_DISEASE  \\\n",
       "0   65         2         2  ...       2        2             1              2   \n",
       "1   72        97         2  ...       2        2             1              2   \n",
       "2   55        97         1  ...       2        2             2              2   \n",
       "3   53         2         2  ...       2        2             2              2   \n",
       "4   68        97         1  ...       2        2             1              2   \n",
       "\n",
       "   CARDIOVASCULAR  OBESITY  RENAL_CHRONIC  TOBACCO  CLASIFFICATION_FINAL  ICU  \n",
       "0               2        2              2        2                     3   97  \n",
       "1               2        1              1        2                     5   97  \n",
       "2               2        2              2        2                     3    2  \n",
       "3               2        2              2        2                     7   97  \n",
       "4               2        2              2        2                     3   97  \n",
       "\n",
       "[5 rows x 21 columns]"
      ]
     },
     "execution_count": 270,
     "metadata": {},
     "output_type": "execute_result"
    }
   ],
   "source": [
    "data.head()\n"
   ]
  },
  {
   "cell_type": "raw",
   "id": "b11d50ce",
   "metadata": {},
   "source": [
    "Для удобства работы заменит дату смерти на 0 и 1. 1- жив, 0 - мертв"
   ]
  },
  {
   "cell_type": "code",
   "execution_count": 291,
   "id": "449af7c3",
   "metadata": {},
   "outputs": [],
   "source": [
    "data.loc[(data['DATE_DIED'] == \"9999-99-99\" ), 'DATE_DIED'] = \"0\""
   ]
  },
  {
   "cell_type": "code",
   "execution_count": 292,
   "id": "0b6920e8",
   "metadata": {},
   "outputs": [],
   "source": [
    "data.loc[ (data[\"DATE_DIED\"] != \"0\" ), 'DATE_DIED'] = \"1\""
   ]
  },
  {
   "cell_type": "code",
   "execution_count": 293,
   "id": "bb6cff18",
   "metadata": {},
   "outputs": [
    {
     "data": {
      "text/html": [
       "<div>\n",
       "<style scoped>\n",
       "    .dataframe tbody tr th:only-of-type {\n",
       "        vertical-align: middle;\n",
       "    }\n",
       "\n",
       "    .dataframe tbody tr th {\n",
       "        vertical-align: top;\n",
       "    }\n",
       "\n",
       "    .dataframe thead th {\n",
       "        text-align: right;\n",
       "    }\n",
       "</style>\n",
       "<table border=\"1\" class=\"dataframe\">\n",
       "  <thead>\n",
       "    <tr style=\"text-align: right;\">\n",
       "      <th></th>\n",
       "      <th>USMER</th>\n",
       "      <th>MEDICAL_UNIT</th>\n",
       "      <th>SEX</th>\n",
       "      <th>PATIENT_TYPE</th>\n",
       "      <th>DATE_DIED</th>\n",
       "      <th>INTUBED</th>\n",
       "      <th>PNEUMONIA</th>\n",
       "      <th>AGE</th>\n",
       "      <th>PREGNANT</th>\n",
       "      <th>DIABETES</th>\n",
       "      <th>...</th>\n",
       "      <th>ASTHMA</th>\n",
       "      <th>INMSUPR</th>\n",
       "      <th>HIPERTENSION</th>\n",
       "      <th>OTHER_DISEASE</th>\n",
       "      <th>CARDIOVASCULAR</th>\n",
       "      <th>OBESITY</th>\n",
       "      <th>RENAL_CHRONIC</th>\n",
       "      <th>TOBACCO</th>\n",
       "      <th>CLASIFFICATION_FINAL</th>\n",
       "      <th>ICU</th>\n",
       "    </tr>\n",
       "  </thead>\n",
       "  <tbody>\n",
       "    <tr>\n",
       "      <th>0</th>\n",
       "      <td>2</td>\n",
       "      <td>1</td>\n",
       "      <td>1</td>\n",
       "      <td>1</td>\n",
       "      <td>1</td>\n",
       "      <td>0</td>\n",
       "      <td>1</td>\n",
       "      <td>65</td>\n",
       "      <td>2</td>\n",
       "      <td>2</td>\n",
       "      <td>...</td>\n",
       "      <td>2</td>\n",
       "      <td>2</td>\n",
       "      <td>1</td>\n",
       "      <td>2</td>\n",
       "      <td>2</td>\n",
       "      <td>2</td>\n",
       "      <td>2</td>\n",
       "      <td>2</td>\n",
       "      <td>3</td>\n",
       "      <td>0</td>\n",
       "    </tr>\n",
       "    <tr>\n",
       "      <th>1</th>\n",
       "      <td>2</td>\n",
       "      <td>1</td>\n",
       "      <td>2</td>\n",
       "      <td>1</td>\n",
       "      <td>1</td>\n",
       "      <td>0</td>\n",
       "      <td>1</td>\n",
       "      <td>72</td>\n",
       "      <td>0</td>\n",
       "      <td>2</td>\n",
       "      <td>...</td>\n",
       "      <td>2</td>\n",
       "      <td>2</td>\n",
       "      <td>1</td>\n",
       "      <td>2</td>\n",
       "      <td>2</td>\n",
       "      <td>1</td>\n",
       "      <td>1</td>\n",
       "      <td>2</td>\n",
       "      <td>5</td>\n",
       "      <td>0</td>\n",
       "    </tr>\n",
       "    <tr>\n",
       "      <th>2</th>\n",
       "      <td>2</td>\n",
       "      <td>1</td>\n",
       "      <td>2</td>\n",
       "      <td>2</td>\n",
       "      <td>1</td>\n",
       "      <td>1</td>\n",
       "      <td>2</td>\n",
       "      <td>55</td>\n",
       "      <td>0</td>\n",
       "      <td>1</td>\n",
       "      <td>...</td>\n",
       "      <td>2</td>\n",
       "      <td>2</td>\n",
       "      <td>2</td>\n",
       "      <td>2</td>\n",
       "      <td>2</td>\n",
       "      <td>2</td>\n",
       "      <td>2</td>\n",
       "      <td>2</td>\n",
       "      <td>3</td>\n",
       "      <td>2</td>\n",
       "    </tr>\n",
       "    <tr>\n",
       "      <th>3</th>\n",
       "      <td>2</td>\n",
       "      <td>1</td>\n",
       "      <td>1</td>\n",
       "      <td>1</td>\n",
       "      <td>1</td>\n",
       "      <td>0</td>\n",
       "      <td>2</td>\n",
       "      <td>53</td>\n",
       "      <td>2</td>\n",
       "      <td>2</td>\n",
       "      <td>...</td>\n",
       "      <td>2</td>\n",
       "      <td>2</td>\n",
       "      <td>2</td>\n",
       "      <td>2</td>\n",
       "      <td>2</td>\n",
       "      <td>2</td>\n",
       "      <td>2</td>\n",
       "      <td>2</td>\n",
       "      <td>7</td>\n",
       "      <td>0</td>\n",
       "    </tr>\n",
       "    <tr>\n",
       "      <th>4</th>\n",
       "      <td>2</td>\n",
       "      <td>1</td>\n",
       "      <td>2</td>\n",
       "      <td>1</td>\n",
       "      <td>1</td>\n",
       "      <td>0</td>\n",
       "      <td>2</td>\n",
       "      <td>68</td>\n",
       "      <td>0</td>\n",
       "      <td>1</td>\n",
       "      <td>...</td>\n",
       "      <td>2</td>\n",
       "      <td>2</td>\n",
       "      <td>1</td>\n",
       "      <td>2</td>\n",
       "      <td>2</td>\n",
       "      <td>2</td>\n",
       "      <td>2</td>\n",
       "      <td>2</td>\n",
       "      <td>3</td>\n",
       "      <td>0</td>\n",
       "    </tr>\n",
       "    <tr>\n",
       "      <th>...</th>\n",
       "      <td>...</td>\n",
       "      <td>...</td>\n",
       "      <td>...</td>\n",
       "      <td>...</td>\n",
       "      <td>...</td>\n",
       "      <td>...</td>\n",
       "      <td>...</td>\n",
       "      <td>...</td>\n",
       "      <td>...</td>\n",
       "      <td>...</td>\n",
       "      <td>...</td>\n",
       "      <td>...</td>\n",
       "      <td>...</td>\n",
       "      <td>...</td>\n",
       "      <td>...</td>\n",
       "      <td>...</td>\n",
       "      <td>...</td>\n",
       "      <td>...</td>\n",
       "      <td>...</td>\n",
       "      <td>...</td>\n",
       "      <td>...</td>\n",
       "    </tr>\n",
       "    <tr>\n",
       "      <th>95</th>\n",
       "      <td>2</td>\n",
       "      <td>1</td>\n",
       "      <td>1</td>\n",
       "      <td>1</td>\n",
       "      <td>0</td>\n",
       "      <td>0</td>\n",
       "      <td>2</td>\n",
       "      <td>49</td>\n",
       "      <td>2</td>\n",
       "      <td>2</td>\n",
       "      <td>...</td>\n",
       "      <td>2</td>\n",
       "      <td>2</td>\n",
       "      <td>2</td>\n",
       "      <td>2</td>\n",
       "      <td>2</td>\n",
       "      <td>2</td>\n",
       "      <td>2</td>\n",
       "      <td>2</td>\n",
       "      <td>7</td>\n",
       "      <td>0</td>\n",
       "    </tr>\n",
       "    <tr>\n",
       "      <th>96</th>\n",
       "      <td>2</td>\n",
       "      <td>1</td>\n",
       "      <td>1</td>\n",
       "      <td>1</td>\n",
       "      <td>0</td>\n",
       "      <td>0</td>\n",
       "      <td>2</td>\n",
       "      <td>24</td>\n",
       "      <td>2</td>\n",
       "      <td>2</td>\n",
       "      <td>...</td>\n",
       "      <td>2</td>\n",
       "      <td>2</td>\n",
       "      <td>2</td>\n",
       "      <td>2</td>\n",
       "      <td>2</td>\n",
       "      <td>2</td>\n",
       "      <td>2</td>\n",
       "      <td>2</td>\n",
       "      <td>7</td>\n",
       "      <td>0</td>\n",
       "    </tr>\n",
       "    <tr>\n",
       "      <th>97</th>\n",
       "      <td>2</td>\n",
       "      <td>1</td>\n",
       "      <td>2</td>\n",
       "      <td>1</td>\n",
       "      <td>0</td>\n",
       "      <td>0</td>\n",
       "      <td>2</td>\n",
       "      <td>28</td>\n",
       "      <td>0</td>\n",
       "      <td>2</td>\n",
       "      <td>...</td>\n",
       "      <td>2</td>\n",
       "      <td>2</td>\n",
       "      <td>2</td>\n",
       "      <td>2</td>\n",
       "      <td>2</td>\n",
       "      <td>2</td>\n",
       "      <td>2</td>\n",
       "      <td>2</td>\n",
       "      <td>7</td>\n",
       "      <td>0</td>\n",
       "    </tr>\n",
       "    <tr>\n",
       "      <th>98</th>\n",
       "      <td>2</td>\n",
       "      <td>1</td>\n",
       "      <td>2</td>\n",
       "      <td>1</td>\n",
       "      <td>0</td>\n",
       "      <td>0</td>\n",
       "      <td>2</td>\n",
       "      <td>27</td>\n",
       "      <td>0</td>\n",
       "      <td>2</td>\n",
       "      <td>...</td>\n",
       "      <td>2</td>\n",
       "      <td>2</td>\n",
       "      <td>2</td>\n",
       "      <td>2</td>\n",
       "      <td>2</td>\n",
       "      <td>2</td>\n",
       "      <td>2</td>\n",
       "      <td>1</td>\n",
       "      <td>7</td>\n",
       "      <td>0</td>\n",
       "    </tr>\n",
       "    <tr>\n",
       "      <th>99</th>\n",
       "      <td>2</td>\n",
       "      <td>1</td>\n",
       "      <td>1</td>\n",
       "      <td>1</td>\n",
       "      <td>0</td>\n",
       "      <td>0</td>\n",
       "      <td>2</td>\n",
       "      <td>26</td>\n",
       "      <td>2</td>\n",
       "      <td>2</td>\n",
       "      <td>...</td>\n",
       "      <td>2</td>\n",
       "      <td>2</td>\n",
       "      <td>2</td>\n",
       "      <td>2</td>\n",
       "      <td>2</td>\n",
       "      <td>2</td>\n",
       "      <td>2</td>\n",
       "      <td>1</td>\n",
       "      <td>7</td>\n",
       "      <td>0</td>\n",
       "    </tr>\n",
       "  </tbody>\n",
       "</table>\n",
       "<p>100 rows × 21 columns</p>\n",
       "</div>"
      ],
      "text/plain": [
       "    USMER  MEDICAL_UNIT  SEX  PATIENT_TYPE DATE_DIED  INTUBED  PNEUMONIA  AGE  \\\n",
       "0       2             1    1             1         1        0          1   65   \n",
       "1       2             1    2             1         1        0          1   72   \n",
       "2       2             1    2             2         1        1          2   55   \n",
       "3       2             1    1             1         1        0          2   53   \n",
       "4       2             1    2             1         1        0          2   68   \n",
       "..    ...           ...  ...           ...       ...      ...        ...  ...   \n",
       "95      2             1    1             1         0        0          2   49   \n",
       "96      2             1    1             1         0        0          2   24   \n",
       "97      2             1    2             1         0        0          2   28   \n",
       "98      2             1    2             1         0        0          2   27   \n",
       "99      2             1    1             1         0        0          2   26   \n",
       "\n",
       "    PREGNANT  DIABETES  ...  ASTHMA  INMSUPR  HIPERTENSION  OTHER_DISEASE  \\\n",
       "0          2         2  ...       2        2             1              2   \n",
       "1          0         2  ...       2        2             1              2   \n",
       "2          0         1  ...       2        2             2              2   \n",
       "3          2         2  ...       2        2             2              2   \n",
       "4          0         1  ...       2        2             1              2   \n",
       "..       ...       ...  ...     ...      ...           ...            ...   \n",
       "95         2         2  ...       2        2             2              2   \n",
       "96         2         2  ...       2        2             2              2   \n",
       "97         0         2  ...       2        2             2              2   \n",
       "98         0         2  ...       2        2             2              2   \n",
       "99         2         2  ...       2        2             2              2   \n",
       "\n",
       "    CARDIOVASCULAR  OBESITY  RENAL_CHRONIC  TOBACCO  CLASIFFICATION_FINAL  ICU  \n",
       "0                2        2              2        2                     3    0  \n",
       "1                2        1              1        2                     5    0  \n",
       "2                2        2              2        2                     3    2  \n",
       "3                2        2              2        2                     7    0  \n",
       "4                2        2              2        2                     3    0  \n",
       "..             ...      ...            ...      ...                   ...  ...  \n",
       "95               2        2              2        2                     7    0  \n",
       "96               2        2              2        2                     7    0  \n",
       "97               2        2              2        2                     7    0  \n",
       "98               2        2              2        1                     7    0  \n",
       "99               2        2              2        1                     7    0  \n",
       "\n",
       "[100 rows x 21 columns]"
      ]
     },
     "execution_count": 293,
     "metadata": {},
     "output_type": "execute_result"
    }
   ],
   "source": [
    "data.head(n=100)"
   ]
  },
  {
   "cell_type": "code",
   "execution_count": 294,
   "id": "8b415908",
   "metadata": {},
   "outputs": [
    {
     "data": {
      "text/html": [
       "<div>\n",
       "<style scoped>\n",
       "    .dataframe tbody tr th:only-of-type {\n",
       "        vertical-align: middle;\n",
       "    }\n",
       "\n",
       "    .dataframe tbody tr th {\n",
       "        vertical-align: top;\n",
       "    }\n",
       "\n",
       "    .dataframe thead th {\n",
       "        text-align: right;\n",
       "    }\n",
       "</style>\n",
       "<table border=\"1\" class=\"dataframe\">\n",
       "  <thead>\n",
       "    <tr style=\"text-align: right;\">\n",
       "      <th></th>\n",
       "      <th>USMER</th>\n",
       "      <th>MEDICAL_UNIT</th>\n",
       "      <th>SEX</th>\n",
       "      <th>PATIENT_TYPE</th>\n",
       "      <th>INTUBED</th>\n",
       "      <th>PNEUMONIA</th>\n",
       "      <th>AGE</th>\n",
       "      <th>PREGNANT</th>\n",
       "      <th>DIABETES</th>\n",
       "      <th>COPD</th>\n",
       "      <th>ASTHMA</th>\n",
       "      <th>INMSUPR</th>\n",
       "      <th>HIPERTENSION</th>\n",
       "      <th>OTHER_DISEASE</th>\n",
       "      <th>CARDIOVASCULAR</th>\n",
       "      <th>OBESITY</th>\n",
       "      <th>RENAL_CHRONIC</th>\n",
       "      <th>TOBACCO</th>\n",
       "      <th>CLASIFFICATION_FINAL</th>\n",
       "      <th>ICU</th>\n",
       "    </tr>\n",
       "  </thead>\n",
       "  <tbody>\n",
       "    <tr>\n",
       "      <th>count</th>\n",
       "      <td>3693.000000</td>\n",
       "      <td>3693.000000</td>\n",
       "      <td>3693.000000</td>\n",
       "      <td>3693.000000</td>\n",
       "      <td>3693.000000</td>\n",
       "      <td>3693.00000</td>\n",
       "      <td>3693.000000</td>\n",
       "      <td>3693.000000</td>\n",
       "      <td>3693.000000</td>\n",
       "      <td>3693.000000</td>\n",
       "      <td>3693.000000</td>\n",
       "      <td>3693.000000</td>\n",
       "      <td>3693.000000</td>\n",
       "      <td>3693.000000</td>\n",
       "      <td>3693.000000</td>\n",
       "      <td>3693.000000</td>\n",
       "      <td>3693.00000</td>\n",
       "      <td>3693.000000</td>\n",
       "      <td>3693.000000</td>\n",
       "      <td>3693.000000</td>\n",
       "    </tr>\n",
       "    <tr>\n",
       "      <th>mean</th>\n",
       "      <td>1.454644</td>\n",
       "      <td>2.872461</td>\n",
       "      <td>1.551584</td>\n",
       "      <td>1.549147</td>\n",
       "      <td>3.433523</td>\n",
       "      <td>2.02410</td>\n",
       "      <td>50.704305</td>\n",
       "      <td>0.892499</td>\n",
       "      <td>2.070133</td>\n",
       "      <td>2.262930</td>\n",
       "      <td>2.281072</td>\n",
       "      <td>2.342811</td>\n",
       "      <td>2.024100</td>\n",
       "      <td>2.516112</td>\n",
       "      <td>2.296507</td>\n",
       "      <td>2.040617</td>\n",
       "      <td>2.29055</td>\n",
       "      <td>2.318170</td>\n",
       "      <td>3.499052</td>\n",
       "      <td>3.513675</td>\n",
       "    </tr>\n",
       "    <tr>\n",
       "      <th>std</th>\n",
       "      <td>0.498006</td>\n",
       "      <td>0.439433</td>\n",
       "      <td>0.497399</td>\n",
       "      <td>0.497646</td>\n",
       "      <td>15.556810</td>\n",
       "      <td>7.17429</td>\n",
       "      <td>18.180278</td>\n",
       "      <td>0.992704</td>\n",
       "      <td>5.494675</td>\n",
       "      <td>5.235662</td>\n",
       "      <td>5.468670</td>\n",
       "      <td>5.903430</td>\n",
       "      <td>5.499258</td>\n",
       "      <td>7.223830</td>\n",
       "      <td>5.692469</td>\n",
       "      <td>4.760001</td>\n",
       "      <td>5.69330</td>\n",
       "      <td>6.116669</td>\n",
       "      <td>1.407999</td>\n",
       "      <td>15.546636</td>\n",
       "    </tr>\n",
       "    <tr>\n",
       "      <th>min</th>\n",
       "      <td>1.000000</td>\n",
       "      <td>1.000000</td>\n",
       "      <td>1.000000</td>\n",
       "      <td>1.000000</td>\n",
       "      <td>0.000000</td>\n",
       "      <td>1.00000</td>\n",
       "      <td>0.000000</td>\n",
       "      <td>0.000000</td>\n",
       "      <td>1.000000</td>\n",
       "      <td>1.000000</td>\n",
       "      <td>1.000000</td>\n",
       "      <td>1.000000</td>\n",
       "      <td>1.000000</td>\n",
       "      <td>1.000000</td>\n",
       "      <td>1.000000</td>\n",
       "      <td>1.000000</td>\n",
       "      <td>1.00000</td>\n",
       "      <td>1.000000</td>\n",
       "      <td>1.000000</td>\n",
       "      <td>0.000000</td>\n",
       "    </tr>\n",
       "    <tr>\n",
       "      <th>25%</th>\n",
       "      <td>1.000000</td>\n",
       "      <td>3.000000</td>\n",
       "      <td>1.000000</td>\n",
       "      <td>1.000000</td>\n",
       "      <td>0.000000</td>\n",
       "      <td>1.00000</td>\n",
       "      <td>39.000000</td>\n",
       "      <td>0.000000</td>\n",
       "      <td>2.000000</td>\n",
       "      <td>2.000000</td>\n",
       "      <td>2.000000</td>\n",
       "      <td>2.000000</td>\n",
       "      <td>1.000000</td>\n",
       "      <td>2.000000</td>\n",
       "      <td>2.000000</td>\n",
       "      <td>2.000000</td>\n",
       "      <td>2.00000</td>\n",
       "      <td>2.000000</td>\n",
       "      <td>3.000000</td>\n",
       "      <td>0.000000</td>\n",
       "    </tr>\n",
       "    <tr>\n",
       "      <th>50%</th>\n",
       "      <td>1.000000</td>\n",
       "      <td>3.000000</td>\n",
       "      <td>2.000000</td>\n",
       "      <td>2.000000</td>\n",
       "      <td>1.000000</td>\n",
       "      <td>1.00000</td>\n",
       "      <td>51.000000</td>\n",
       "      <td>0.000000</td>\n",
       "      <td>2.000000</td>\n",
       "      <td>2.000000</td>\n",
       "      <td>2.000000</td>\n",
       "      <td>2.000000</td>\n",
       "      <td>2.000000</td>\n",
       "      <td>2.000000</td>\n",
       "      <td>2.000000</td>\n",
       "      <td>2.000000</td>\n",
       "      <td>2.00000</td>\n",
       "      <td>2.000000</td>\n",
       "      <td>3.000000</td>\n",
       "      <td>1.000000</td>\n",
       "    </tr>\n",
       "    <tr>\n",
       "      <th>75%</th>\n",
       "      <td>2.000000</td>\n",
       "      <td>3.000000</td>\n",
       "      <td>2.000000</td>\n",
       "      <td>2.000000</td>\n",
       "      <td>2.000000</td>\n",
       "      <td>2.00000</td>\n",
       "      <td>63.000000</td>\n",
       "      <td>2.000000</td>\n",
       "      <td>2.000000</td>\n",
       "      <td>2.000000</td>\n",
       "      <td>2.000000</td>\n",
       "      <td>2.000000</td>\n",
       "      <td>2.000000</td>\n",
       "      <td>2.000000</td>\n",
       "      <td>2.000000</td>\n",
       "      <td>2.000000</td>\n",
       "      <td>2.00000</td>\n",
       "      <td>2.000000</td>\n",
       "      <td>3.000000</td>\n",
       "      <td>2.000000</td>\n",
       "    </tr>\n",
       "    <tr>\n",
       "      <th>max</th>\n",
       "      <td>2.000000</td>\n",
       "      <td>3.000000</td>\n",
       "      <td>2.000000</td>\n",
       "      <td>2.000000</td>\n",
       "      <td>99.000000</td>\n",
       "      <td>99.00000</td>\n",
       "      <td>103.000000</td>\n",
       "      <td>2.000000</td>\n",
       "      <td>98.000000</td>\n",
       "      <td>98.000000</td>\n",
       "      <td>98.000000</td>\n",
       "      <td>98.000000</td>\n",
       "      <td>98.000000</td>\n",
       "      <td>98.000000</td>\n",
       "      <td>98.000000</td>\n",
       "      <td>98.000000</td>\n",
       "      <td>98.00000</td>\n",
       "      <td>98.000000</td>\n",
       "      <td>7.000000</td>\n",
       "      <td>99.000000</td>\n",
       "    </tr>\n",
       "  </tbody>\n",
       "</table>\n",
       "</div>"
      ],
      "text/plain": [
       "             USMER  MEDICAL_UNIT          SEX  PATIENT_TYPE      INTUBED  \\\n",
       "count  3693.000000   3693.000000  3693.000000   3693.000000  3693.000000   \n",
       "mean      1.454644      2.872461     1.551584      1.549147     3.433523   \n",
       "std       0.498006      0.439433     0.497399      0.497646    15.556810   \n",
       "min       1.000000      1.000000     1.000000      1.000000     0.000000   \n",
       "25%       1.000000      3.000000     1.000000      1.000000     0.000000   \n",
       "50%       1.000000      3.000000     2.000000      2.000000     1.000000   \n",
       "75%       2.000000      3.000000     2.000000      2.000000     2.000000   \n",
       "max       2.000000      3.000000     2.000000      2.000000    99.000000   \n",
       "\n",
       "        PNEUMONIA          AGE     PREGNANT     DIABETES         COPD  \\\n",
       "count  3693.00000  3693.000000  3693.000000  3693.000000  3693.000000   \n",
       "mean      2.02410    50.704305     0.892499     2.070133     2.262930   \n",
       "std       7.17429    18.180278     0.992704     5.494675     5.235662   \n",
       "min       1.00000     0.000000     0.000000     1.000000     1.000000   \n",
       "25%       1.00000    39.000000     0.000000     2.000000     2.000000   \n",
       "50%       1.00000    51.000000     0.000000     2.000000     2.000000   \n",
       "75%       2.00000    63.000000     2.000000     2.000000     2.000000   \n",
       "max      99.00000   103.000000     2.000000    98.000000    98.000000   \n",
       "\n",
       "            ASTHMA      INMSUPR  HIPERTENSION  OTHER_DISEASE  CARDIOVASCULAR  \\\n",
       "count  3693.000000  3693.000000   3693.000000    3693.000000     3693.000000   \n",
       "mean      2.281072     2.342811      2.024100       2.516112        2.296507   \n",
       "std       5.468670     5.903430      5.499258       7.223830        5.692469   \n",
       "min       1.000000     1.000000      1.000000       1.000000        1.000000   \n",
       "25%       2.000000     2.000000      1.000000       2.000000        2.000000   \n",
       "50%       2.000000     2.000000      2.000000       2.000000        2.000000   \n",
       "75%       2.000000     2.000000      2.000000       2.000000        2.000000   \n",
       "max      98.000000    98.000000     98.000000      98.000000       98.000000   \n",
       "\n",
       "           OBESITY  RENAL_CHRONIC      TOBACCO  CLASIFFICATION_FINAL  \\\n",
       "count  3693.000000     3693.00000  3693.000000           3693.000000   \n",
       "mean      2.040617        2.29055     2.318170              3.499052   \n",
       "std       4.760001        5.69330     6.116669              1.407999   \n",
       "min       1.000000        1.00000     1.000000              1.000000   \n",
       "25%       2.000000        2.00000     2.000000              3.000000   \n",
       "50%       2.000000        2.00000     2.000000              3.000000   \n",
       "75%       2.000000        2.00000     2.000000              3.000000   \n",
       "max      98.000000       98.00000    98.000000              7.000000   \n",
       "\n",
       "               ICU  \n",
       "count  3693.000000  \n",
       "mean      3.513675  \n",
       "std      15.546636  \n",
       "min       0.000000  \n",
       "25%       0.000000  \n",
       "50%       1.000000  \n",
       "75%       2.000000  \n",
       "max      99.000000  "
      ]
     },
     "execution_count": 294,
     "metadata": {},
     "output_type": "execute_result"
    }
   ],
   "source": [
    "data.describe()"
   ]
  },
  {
   "cell_type": "code",
   "execution_count": 295,
   "id": "2eeca2d6",
   "metadata": {},
   "outputs": [
    {
     "name": "stdout",
     "output_type": "stream",
     "text": [
      "<class 'pandas.core.frame.DataFrame'>\n",
      "RangeIndex: 3693 entries, 0 to 3692\n",
      "Data columns (total 21 columns):\n",
      " #   Column                Non-Null Count  Dtype \n",
      "---  ------                --------------  ----- \n",
      " 0   USMER                 3693 non-null   int64 \n",
      " 1   MEDICAL_UNIT          3693 non-null   int64 \n",
      " 2   SEX                   3693 non-null   int64 \n",
      " 3   PATIENT_TYPE          3693 non-null   int64 \n",
      " 4   DATE_DIED             3693 non-null   object\n",
      " 5   INTUBED               3693 non-null   int64 \n",
      " 6   PNEUMONIA             3693 non-null   int64 \n",
      " 7   AGE                   3693 non-null   int64 \n",
      " 8   PREGNANT              3693 non-null   int64 \n",
      " 9   DIABETES              3693 non-null   int64 \n",
      " 10  COPD                  3693 non-null   int64 \n",
      " 11  ASTHMA                3693 non-null   int64 \n",
      " 12  INMSUPR               3693 non-null   int64 \n",
      " 13  HIPERTENSION          3693 non-null   int64 \n",
      " 14  OTHER_DISEASE         3693 non-null   int64 \n",
      " 15  CARDIOVASCULAR        3693 non-null   int64 \n",
      " 16  OBESITY               3693 non-null   int64 \n",
      " 17  RENAL_CHRONIC         3693 non-null   int64 \n",
      " 18  TOBACCO               3693 non-null   int64 \n",
      " 19  CLASIFFICATION_FINAL  3693 non-null   int64 \n",
      " 20  ICU                   3693 non-null   int64 \n",
      "dtypes: int64(20), object(1)\n",
      "memory usage: 606.0+ KB\n"
     ]
    }
   ],
   "source": [
    "data.info()\n"
   ]
  },
  {
   "cell_type": "code",
   "execution_count": 296,
   "id": "5a0bebcd",
   "metadata": {
    "scrolled": true
   },
   "outputs": [
    {
     "data": {
      "text/plain": [
       "USMER                    2\n",
       "MEDICAL_UNIT             3\n",
       "SEX                      2\n",
       "PATIENT_TYPE             2\n",
       "DATE_DIED                2\n",
       "INTUBED                  4\n",
       "PNEUMONIA                3\n",
       "AGE                     98\n",
       "PREGNANT                 3\n",
       "DIABETES                 3\n",
       "COPD                     3\n",
       "ASTHMA                   3\n",
       "INMSUPR                  3\n",
       "HIPERTENSION             3\n",
       "OTHER_DISEASE            3\n",
       "CARDIOVASCULAR           3\n",
       "OBESITY                  3\n",
       "RENAL_CHRONIC            3\n",
       "TOBACCO                  3\n",
       "CLASIFFICATION_FINAL     7\n",
       "ICU                      4\n",
       "dtype: int64"
      ]
     },
     "execution_count": 296,
     "metadata": {},
     "output_type": "execute_result"
    }
   ],
   "source": [
    "data.nunique()"
   ]
  },
  {
   "cell_type": "markdown",
   "id": "27004717",
   "metadata": {},
   "source": [
    "Значения 97 и 98 в некоторых столбцах означают, что значения отсутсвуют, заменим их на 0"
   ]
  },
  {
   "cell_type": "code",
   "execution_count": 297,
   "id": "d4cfec59",
   "metadata": {},
   "outputs": [],
   "source": [
    "data.loc[data['INTUBED'] ==97, 'INTUBED'] = 0\n",
    "data.loc[(data['INTUBED'] ==98), 'INTUBED'] = 0"
   ]
  },
  {
   "cell_type": "code",
   "execution_count": 298,
   "id": "ade2b4fb",
   "metadata": {},
   "outputs": [],
   "source": [
    "data.loc[(data[\"PREGNANT\"] == 97), 'PREGNANT'] = 0\n",
    "data.loc[(data[\"PREGNANT\"] == 98), 'PREGNANT'] = 0"
   ]
  },
  {
   "cell_type": "code",
   "execution_count": 299,
   "id": "af97584a",
   "metadata": {},
   "outputs": [],
   "source": [
    "data.loc[(data[\"ICU\"] == 97), 'ICU'] = 0\n",
    "data.loc[(data[\"ICU\"] == 98), 'ICU'] = 0"
   ]
  },
  {
   "cell_type": "markdown",
   "id": "3efe5e5f",
   "metadata": {},
   "source": [
    "2. Выполнить разведочный анализ (EDA), использовать визуализацию, сделать выводы, которые могут быть полезны при дальнейшем решении задачи."
   ]
  },
  {
   "cell_type": "code",
   "execution_count": 300,
   "id": "1068cfb3",
   "metadata": {},
   "outputs": [],
   "source": [
    "import matplotlib.pyplot as plt\n",
    "import seaborn as sns"
   ]
  },
  {
   "cell_type": "code",
   "execution_count": 301,
   "id": "95f4e0b8",
   "metadata": {},
   "outputs": [
    {
     "data": {
      "image/png": "[encoded data removed]",
      "text/plain": [
       "<Figure size 640x480 with 1 Axes>"
      ]
     },
     "metadata": {},
     "output_type": "display_data"
    }
   ],
   "source": [
    "sns.countplot(x='CLASIFFICATION_FINAL', data=data)\n",
    "plt.xlabel(\"результаты тестов covid\")\n",
    "plt.show()"
   ]
  },
  {
   "cell_type": "markdown",
   "id": "1fb36c7a",
   "metadata": {},
   "source": [
    "Больше всего человек попадают в категории 3 и 7. \n",
    "3 - у пациента диагностировали ковид в разной\n",
    "степени\n",
    "7 - пациент не является носителем ковида или что тест не дает результатов"
   ]
  },
  {
   "cell_type": "code",
   "execution_count": 302,
   "id": "fb6f398a",
   "metadata": {
    "scrolled": true
   },
   "outputs": [
    {
     "data": {
      "image/png": "[encoded data removed]",
      "text/plain": [
       "<Figure size 640x480 with 1 Axes>"
      ]
     },
     "metadata": {},
     "output_type": "display_data"
    }
   ],
   "source": [
    "sns.pointplot(y=\"CLASIFFICATION_FINAL\", x=\"PREGNANT\", data=data)\n",
    "plt.title('Зависимость результатов тестов от беременности')\n",
    "plt.show()"
   ]
  },
  {
   "cell_type": "markdown",
   "id": "df0bd5a3",
   "metadata": {},
   "source": [
    "По графику видно, что результаты тестов не беременных показывали либо отрицательный результат, либо тест не давал результатов. (значения 97 и 98 означают отсутствие данных)"
   ]
  },
  {
   "cell_type": "code",
   "execution_count": 303,
   "id": "6b878951",
   "metadata": {},
   "outputs": [
    {
     "data": {
      "image/png": "[encoded data removed]",
      "text/plain": [
       "<Figure size 1500x1000 with 2 Axes>"
      ]
     },
     "metadata": {},
     "output_type": "display_data"
    }
   ],
   "source": [
    "plt.figure(figsize=(15, 10))\n",
    "sns.heatmap(data.corr(numeric_only = True), annot=True, fmt='.2f')\n",
    "plt.title('Корреляция признаков')\n",
    "plt.show()"
   ]
  },
  {
   "cell_type": "markdown",
   "id": "4b8caac8",
   "metadata": {},
   "source": [
    "3. При необходимости выполнить полезные преобразования данных (например, трансформировать категариальные признаки в количественные), убрать ненужные признаки, создать новые (Feature Engineering)."
   ]
  },
  {
   "cell_type": "markdown",
   "id": "a9a64fc7",
   "metadata": {},
   "source": [
    "Избавимся от отсутсвующих данных"
   ]
  },
  {
   "cell_type": "code",
   "execution_count": 304,
   "id": "2069f85e",
   "metadata": {},
   "outputs": [
    {
     "data": {
      "text/plain": [
       "AGE\n",
       "0       8.000000\n",
       "1      10.043478\n",
       "2      25.625000\n",
       "3       0.333333\n",
       "4      11.777778\n",
       "         ...    \n",
       "93      2.000000\n",
       "95      1.000000\n",
       "97      1.333333\n",
       "100     0.000000\n",
       "103     2.000000\n",
       "Name: INTUBED, Length: 98, dtype: float64"
      ]
     },
     "execution_count": 304,
     "metadata": {},
     "output_type": "execute_result"
    }
   ],
   "source": [
    "data.groupby('AGE')['INTUBED'].mean() "
   ]
  },
  {
   "cell_type": "code",
   "execution_count": 305,
   "id": "c6dea172",
   "metadata": {},
   "outputs": [
    {
     "data": {
      "text/plain": [
       "False"
      ]
     },
     "execution_count": 305,
     "metadata": {},
     "output_type": "execute_result"
    }
   ],
   "source": [
    "data.loc[(data['INTUBED'].isnull()) & (data['AGE'] == 0), 'INTUBED'] = 26\n",
    "data.loc[(data['INTUBED'].isnull()) & (data['AGE'] == 1), 'INTUBED'] = 63\n",
    "data.loc[(data['INTUBED'].isnull()) & (data['AGE'] > 2), 'INTUBED'] = 75\n",
    "data.loc[(data['INTUBED'].isnull()) & (data['AGE'] > 20), 'INTUBED'] = 97\n",
    "data['INTUBED'].isnull().any() "
   ]
  },
  {
   "cell_type": "markdown",
   "id": "d45985a4",
   "metadata": {},
   "source": [
    "4. Используя стратегии OneVsRest, OneVsOne и OutputCode решите задачу Multiclass classification для каждого из пройденных базового алгоритма классификации (logistic regression, svm, knn, naive bayes, decision tree). При обучении использовать подбор гиперпараметров, кросс-валидацию и при необходимости масштабирование данных, добиться наилучшего качества предсказания."
   ]
  },
  {
   "cell_type": "markdown",
   "id": "f3dc76c7",
   "metadata": {},
   "source": [
    "Разделим выборку на обучающую и тестовую."
   ]
  },
  {
   "cell_type": "code",
   "execution_count": 306,
   "id": "bd5c8de0",
   "metadata": {},
   "outputs": [],
   "source": [
    "from sklearn.feature_selection import RFE\n",
    "from sklearn.linear_model import LogisticRegression\n",
    "from sklearn.model_selection import train_test_split\n",
    "from sklearn.preprocessing import StandardScaler\n",
    "import warnings\n",
    "warnings.filterwarnings('ignore')\n",
    "\n",
    "X = data.drop('DATE_DIED', axis=1)\n",
    "y = data['DATE_DIED']\n"
   ]
  },
  {
   "cell_type": "code",
   "execution_count": 307,
   "id": "9fa0004d",
   "metadata": {},
   "outputs": [],
   "source": [
    "X_train, X_test, y_train, y_test = train_test_split(X, y, test_size=0.2, random_state=42)\n",
    "\n"
   ]
  },
  {
   "cell_type": "code",
   "execution_count": 308,
   "id": "ce371f1b",
   "metadata": {},
   "outputs": [],
   "source": [
    "scaler = StandardScaler()\n",
    "X_train_scaled = scaler.fit_transform(X_train)\n",
    "X_test_scaled = scaler.transform(X_test)"
   ]
  },
  {
   "cell_type": "markdown",
   "id": "f8bbcf76",
   "metadata": {},
   "source": [
    "4.1 Стратегия OneVsRest "
   ]
  },
  {
   "cell_type": "markdown",
   "id": "0dad10cb",
   "metadata": {},
   "source": [
    "Logistic Regression"
   ]
  },
  {
   "cell_type": "code",
   "execution_count": 350,
   "id": "7ea30f22",
   "metadata": {},
   "outputs": [],
   "source": [
    "from sklearn.multiclass import OneVsRestClassifier\n",
    "from sklearn.linear_model import LogisticRegression\n",
    "from sklearn.model_selection import GridSearchCV\n",
    "from sklearn.metrics import accuracy_score\n",
    "\n",
    "params = { 'C': [1, 10, 100]}\n",
    "model = LogisticRegression()\n",
    "grid = GridSearchCV(model, params)\n",
    "LR_OVRC_model = OneVsRestClassifier(grid)"
   ]
  },
  {
   "cell_type": "code",
   "execution_count": 351,
   "id": "a8a44122",
   "metadata": {},
   "outputs": [],
   "source": [
    "import time\n",
    "\n",
    "start_time = time.time()\n",
    "LR_OVRC_model.fit(X_train_scaled, y_train)\n",
    "end_time = time.time()\n",
    "\n",
    "y_pred = LR_OVRC_model.predict(X_test_scaled)\n",
    "\n",
    "LR_OVRC_accuracy = accuracy_score(y_test, y_pred)\n",
    "LR_OVRC_time = end_time - start_time\n",
    "\n"
   ]
  },
  {
   "cell_type": "markdown",
   "id": "fdd5692e",
   "metadata": {},
   "source": [
    "SVM"
   ]
  },
  {
   "cell_type": "code",
   "execution_count": 311,
   "id": "fbc9ab05",
   "metadata": {},
   "outputs": [],
   "source": [
    "from sklearn.svm import SVC\n",
    "\n",
    "params = {'C': [0.001, 10, 0.01]}\n",
    "grid = GridSearchCV(SVC(), params)\n",
    "\n",
    "SVC_OVRC_model = OneVsRestClassifier(grid)"
   ]
  },
  {
   "cell_type": "code",
   "execution_count": 312,
   "id": "5bde0383",
   "metadata": {},
   "outputs": [],
   "source": [
    "start_time = time.time()\n",
    "SVC_OVRC_model.fit(X_train_scaled, y_train)\n",
    "end_time = time.time()\n",
    "\n",
    "y_pred = SVC_OVRC_model.predict(X_test_scaled)\n",
    "\n",
    "SVC_OVRC_accuracy = accuracy_score(y_test, y_pred)\n",
    "SVC_OVRC_time = end_time - start_time"
   ]
  },
  {
   "cell_type": "markdown",
   "id": "225e535a",
   "metadata": {},
   "source": [
    "KNN"
   ]
  },
  {
   "cell_type": "code",
   "execution_count": 313,
   "id": "21680dca",
   "metadata": {},
   "outputs": [],
   "source": [
    "from sklearn.neighbors import KNeighborsClassifier\n",
    "\n",
    "param = {'n_neighbors': [ 8, 9, 10, 5, 7 ,10], 'weights': ['uniform', 'distance']}\n",
    "\n",
    "grid = GridSearchCV(KNeighborsClassifier(), param)\n",
    "\n",
    "KNN_OVRC_model = OneVsRestClassifier(grid)"
   ]
  },
  {
   "cell_type": "code",
   "execution_count": 314,
   "id": "cc2235dc",
   "metadata": {},
   "outputs": [],
   "source": [
    "\n",
    "start_time = time.time()\n",
    "KNN_OVRC_model.fit(X_train_scaled, y_train)\n",
    "end_time = time.time()\n",
    "\n",
    "y_pred = KNN_OVRC_model.predict(X_test_scaled)\n",
    "\n",
    "KNN_OVRC_accuracy = accuracy_score(y_test, y_pred)\n",
    "KNN_OVRC_time = end_time - start_time"
   ]
  },
  {
   "cell_type": "markdown",
   "id": "2a63d370",
   "metadata": {},
   "source": [
    "Naive Bayes"
   ]
  },
  {
   "cell_type": "code",
   "execution_count": 315,
   "id": "215b2554",
   "metadata": {},
   "outputs": [],
   "source": [
    "\n",
    "from sklearn.naive_bayes import GaussianNB\n",
    "\n",
    "param = {'var_smoothing': [1000000, 1, 10, 100, 1000]}\n",
    "\n",
    "grid = GridSearchCV(GaussianNB(), param)\n",
    "\n",
    "NB_OVRC_model = OneVsRestClassifier(grid)"
   ]
  },
  {
   "cell_type": "code",
   "execution_count": 316,
   "id": "2a7837a8",
   "metadata": {},
   "outputs": [],
   "source": [
    "start_time = time.time()\n",
    "NB_OVRC_model.fit(X_train_scaled, y_train)\n",
    "end_time = time.time()\n",
    "\n",
    "y_pred = NB_OVRC_model.predict(X_test_scaled)\n",
    "\n",
    "NB_OVRC_accuracy = accuracy_score(y_test, y_pred)\n",
    "NB_OVRC_time = end_time - start_time"
   ]
  },
  {
   "cell_type": "markdown",
   "id": "b2a27c63",
   "metadata": {},
   "source": [
    "Decision Tree"
   ]
  },
  {
   "cell_type": "code",
   "execution_count": 317,
   "id": "341a1b28",
   "metadata": {},
   "outputs": [],
   "source": [
    "from sklearn.tree import DecisionTreeClassifier\n",
    "\n",
    "param = {'criterion': ['gini', 'entropy'], 'max_depth': [1, 2, 3, 4, 5, 6, 7, 8, 9, 10]}\n",
    "model = DecisionTreeClassifier()\n",
    "\n",
    "grid = GridSearchCV(model, param)\n",
    "\n",
    "DT_OVRC_model = OneVsRestClassifier(grid)\n"
   ]
  },
  {
   "cell_type": "code",
   "execution_count": 318,
   "id": "39a093ef",
   "metadata": {},
   "outputs": [],
   "source": [
    "start = time.time()\n",
    "DT_OVRC_model.fit(X_train_scaled, y_train)\n",
    "end = time.time()\n",
    "\n",
    "y_pred = DT_OVRC_model.predict(X_test_scaled)\n",
    "\n",
    "DT_OVRC_accuracy = accuracy_score(y_test, y_pred)\n",
    "DT_OVRC_time = end - start\n",
    "\n"
   ]
  },
  {
   "cell_type": "markdown",
   "id": "a537c27a",
   "metadata": {},
   "source": [
    "Стратегия OneVsOne"
   ]
  },
  {
   "cell_type": "markdown",
   "id": "bb6aebcc",
   "metadata": {},
   "source": [
    "Logistic Regression"
   ]
  },
  {
   "cell_type": "code",
   "execution_count": 319,
   "id": "15b3d4c7",
   "metadata": {},
   "outputs": [],
   "source": [
    "from sklearn.multiclass import OneVsOneClassifier\n",
    "\n",
    "param_grid = {'C': [ 1, 10, 100, 1000]}\n",
    "\n",
    "grid = GridSearchCV(LogisticRegression(), param_grid)\n",
    "\n",
    "LR_OVO_model = OneVsOneClassifier(grid)"
   ]
  },
  {
   "cell_type": "code",
   "execution_count": 323,
   "id": "92db6ea7",
   "metadata": {},
   "outputs": [],
   "source": [
    "start = time.time()\n",
    "LR_OVO_model.fit(X_train_scaled, y_train)\n",
    "end = time.time()\n",
    "\n",
    "y_pred = LR_OVO_model.predict(X_test_scaled)\n",
    "\n",
    "LR_OVO_accuracy = accuracy_score(y_test, y_pred)\n",
    "LR_OVO_time = end - start"
   ]
  },
  {
   "cell_type": "markdown",
   "id": "a1cc638e",
   "metadata": {},
   "source": [
    "SVM"
   ]
  },
  {
   "cell_type": "code",
   "execution_count": 326,
   "id": "61c6c996",
   "metadata": {},
   "outputs": [],
   "source": [
    "\n",
    "param = {'C': [0.001, 10, 0.01]}\n",
    "\n",
    "grid = GridSearchCV(SVC(), param)\n",
    "\n",
    "SVM_OVO_model = OneVsOneClassifier(grid)"
   ]
  },
  {
   "cell_type": "code",
   "execution_count": 327,
   "id": "cfd50a03",
   "metadata": {},
   "outputs": [],
   "source": [
    "start = time.time()\n",
    "SVM_OVO_model.fit(X_train_scaled, y_train)\n",
    "end = time.time()\n",
    "\n",
    "y_pred = SVM_OVO_model.predict(X_test_scaled)\n",
    "\n",
    "SVM_OVO_accuracy = accuracy_score(y_test, y_pred)\n",
    "SVM_OVO_time = end - start"
   ]
  },
  {
   "cell_type": "markdown",
   "id": "bb0395d0",
   "metadata": {},
   "source": [
    " KNN"
   ]
  },
  {
   "cell_type": "code",
   "execution_count": 328,
   "id": "a2aba94d",
   "metadata": {},
   "outputs": [],
   "source": [
    "\n",
    "param = {'n_neighbors': [ 8, 9, 10, 5, 7 ,10], 'weights': ['uniform', 'distance']}\n",
    "\n",
    "grid = GridSearchCV(KNeighborsClassifier(), param)\n",
    "\n",
    "KNN_OVO_model = OneVsOneClassifier(grid)"
   ]
  },
  {
   "cell_type": "code",
   "execution_count": 329,
   "id": "e01ec6ae",
   "metadata": {},
   "outputs": [],
   "source": [
    "start = time.time()\n",
    "KNN_OVO_model.fit(X_train_scaled, y_train)\n",
    "end = time.time()\n",
    "\n",
    "y_pred = KNN_OVO_model.predict(X_test_scaled)\n",
    "\n",
    "KNN_OVO_accuracy = accuracy_score(y_test, y_pred)\n",
    "KNN_OVO_time = end - start"
   ]
  },
  {
   "cell_type": "markdown",
   "id": "b3c62ee3",
   "metadata": {},
   "source": [
    "Naive Bayes"
   ]
  },
  {
   "cell_type": "code",
   "execution_count": 330,
   "id": "fe004a55",
   "metadata": {},
   "outputs": [],
   "source": [
    "param = {'var_smoothing': [1000000, 1, 10, 100, 1000]}\n",
    "\n",
    "grid = GridSearchCV(GaussianNB(), param)\n",
    "\n",
    "NB_OVO_model = OneVsOneClassifier(grid)"
   ]
  },
  {
   "cell_type": "code",
   "execution_count": 331,
   "id": "e5892b06",
   "metadata": {},
   "outputs": [],
   "source": [
    "start = time.time()\n",
    "NB_OVO_model.fit(X_train_scaled, y_train)\n",
    "end = time.time()\n",
    "\n",
    "y_pred = NB_OVO_model.predict(X_test_scaled)\n",
    "\n",
    "NB_OVO_accuracy = accuracy_score(y_test, y_pred)\n",
    "NB_OVO_time = end - start"
   ]
  },
  {
   "cell_type": "markdown",
   "id": "799e6f8d",
   "metadata": {},
   "source": [
    "Decision Tree"
   ]
  },
  {
   "cell_type": "code",
   "execution_count": 332,
   "id": "34839b10",
   "metadata": {},
   "outputs": [],
   "source": [
    "\n",
    "param =  {'criterion': ['gini', 'entropy'], 'max_depth': [1, 2, 3, 4, 5, 6, 7, 8, 9, 10]}\n",
    "\n",
    "grid = GridSearchCV(DecisionTreeClassifier(), param)\n",
    "\n",
    "DT_OVO_model = OneVsOneClassifier(grid)"
   ]
  },
  {
   "cell_type": "code",
   "execution_count": 333,
   "id": "41e90ed5",
   "metadata": {},
   "outputs": [],
   "source": [
    "\n",
    "start = time.time()\n",
    "DT_OVO_model.fit(X_train_scaled, y_train)\n",
    "end = time.time()\n",
    "\n",
    "y_pred = DT_OVO_model.predict(X_test_scaled)\n",
    "\n",
    "DT_OVO_accuracy = accuracy_score(y_test, y_pred)\n",
    "DT_OVO_time = end - start\n"
   ]
  },
  {
   "cell_type": "markdown",
   "id": "6fcb2a1d",
   "metadata": {},
   "source": [
    "Стратегия OutputCode"
   ]
  },
  {
   "cell_type": "markdown",
   "id": "913480e5",
   "metadata": {},
   "source": [
    "Logistic Regression"
   ]
  },
  {
   "cell_type": "code",
   "execution_count": 334,
   "id": "21a722dd",
   "metadata": {},
   "outputs": [],
   "source": [
    "\n",
    "from sklearn.multiclass import OutputCodeClassifier\n",
    "\n",
    "param = {'C': [0.1, 1, 10, 100, 1000]}\n",
    "\n",
    "grid = GridSearchCV(LogisticRegression(), param)\n",
    "\n",
    "LR_OC_model = OutputCodeClassifier(grid)"
   ]
  },
  {
   "cell_type": "code",
   "execution_count": 335,
   "id": "12cee090",
   "metadata": {},
   "outputs": [],
   "source": [
    "start = time.time()\n",
    "LR_OC_model.fit(X_train_scaled, y_train)\n",
    "end = time.time()\n",
    "\n",
    "y_pred = LR_OC_model.predict(X_test_scaled)\n",
    "\n",
    "LR_OC_accuracy = accuracy_score(y_test, y_pred)\n",
    "LR_OC_time = end - start"
   ]
  },
  {
   "cell_type": "markdown",
   "id": "99586ae4",
   "metadata": {},
   "source": [
    "SVM"
   ]
  },
  {
   "cell_type": "code",
   "execution_count": 338,
   "id": "700a6945",
   "metadata": {},
   "outputs": [],
   "source": [
    "\n",
    "param = {'C': [0.1, 1, 10, 50]}\n",
    "\n",
    "grid = GridSearchCV(SVC(), param)\n",
    "\n",
    "SVM_OC_model = OutputCodeClassifier(grid)"
   ]
  },
  {
   "cell_type": "code",
   "execution_count": 339,
   "id": "fe1450b2",
   "metadata": {},
   "outputs": [],
   "source": [
    "start = time.time()\n",
    "SVM_OC_model.fit(X_train_scaled, y_train)\n",
    "end = time.time()\n",
    "\n",
    "y_pred = SVM_OC_model.predict(X_test_scaled)\n",
    "\n",
    "SVM_OC_accuracy = accuracy_score(y_test, y_pred)\n",
    "SVM_OC_time = end - start"
   ]
  },
  {
   "cell_type": "markdown",
   "id": "27ee16a8",
   "metadata": {},
   "source": [
    "KNN"
   ]
  },
  {
   "cell_type": "code",
   "execution_count": 340,
   "id": "f0617089",
   "metadata": {},
   "outputs": [],
   "source": [
    "\n",
    "param = {'n_neighbors': [ 8, 9, 10, 5, 7 ,10], 'weights': ['uniform', 'distance']}\n",
    "\n",
    "grid = GridSearchCV(KNeighborsClassifier(), param)\n",
    "\n",
    "KNN_OC_model = OutputCodeClassifier(grid)"
   ]
  },
  {
   "cell_type": "code",
   "execution_count": 341,
   "id": "1cd0cbb2",
   "metadata": {},
   "outputs": [],
   "source": [
    "\n",
    "start = time.time()\n",
    "KNN_OC_model.fit(X_train_scaled, y_train)\n",
    "end = time.time()\n",
    "\n",
    "y_pred = KNN_OC_model.predict(X_test_scaled)\n",
    "\n",
    "KNN_OC_accuracy = accuracy_score(y_test, y_pred)\n",
    "KNN_OC_time = end - start"
   ]
  },
  {
   "cell_type": "markdown",
   "id": "12056696",
   "metadata": {},
   "source": [
    "Naive Bayes"
   ]
  },
  {
   "cell_type": "code",
   "execution_count": 342,
   "id": "e1f5799f",
   "metadata": {},
   "outputs": [],
   "source": [
    "param = {'var_smoothing': [1000000, 1, 10, 100, 1000]}\n",
    "\n",
    "grid = GridSearchCV(GaussianNB(), param)\n",
    "\n",
    "NB_OC_model = OutputCodeClassifier(grid)"
   ]
  },
  {
   "cell_type": "code",
   "execution_count": 343,
   "id": "b7ab1b57",
   "metadata": {},
   "outputs": [],
   "source": [
    "start = time.time()\n",
    "NB_OC_model.fit(X_train_scaled, y_train)\n",
    "end = time.time()\n",
    "\n",
    "y_pred = NB_OC_model.predict(X_test_scaled)\n",
    "\n",
    "NB_OC_accuracy = accuracy_score(y_test, y_pred)\n",
    "NB_OC_time = end - start"
   ]
  },
  {
   "cell_type": "markdown",
   "id": "f81de4d0",
   "metadata": {},
   "source": [
    "Decision Tree"
   ]
  },
  {
   "cell_type": "code",
   "execution_count": 344,
   "id": "a6c78276",
   "metadata": {},
   "outputs": [],
   "source": [
    "param =  {'criterion': ['gini', 'entropy'], 'max_depth': [1, 2, 3, 4, 5, 6, 7, 8, 9, 10]}\n",
    "\n",
    "grid = GridSearchCV(DecisionTreeClassifier(), param)\n",
    " \n",
    "DT_OC_model = OutputCodeClassifier(grid)"
   ]
  },
  {
   "cell_type": "code",
   "execution_count": 345,
   "id": "93f79422",
   "metadata": {},
   "outputs": [],
   "source": [
    "\n",
    "start = time.time()\n",
    "DT_OC_model.fit(X_train_scaled, y_train)\n",
    "end = time.time()\n",
    "\n",
    "y_pred = DT_OC_model.predict(X_test_scaled)\n",
    "\n",
    "DT_OC_accuracy = accuracy_score(y_test, y_pred)\n",
    "DT_OC_time = end - start\n"
   ]
  },
  {
   "cell_type": "markdown",
   "id": "9884dcb1",
   "metadata": {},
   "source": [
    "5. Замерить время обучения каждой модели для каждой стратегии."
   ]
  },
  {
   "cell_type": "code",
   "execution_count": 354,
   "id": "1bb88fab",
   "metadata": {},
   "outputs": [
    {
     "name": "stdout",
     "output_type": "stream",
     "text": [
      "+------------------------------------------+---------------------+\n",
      "|                  Model                   |         Time        |\n",
      "+------------------------------------------+---------------------+\n",
      "| OneVsRestClassifier(LogisticRegression)  |  0.3673262596130371 |\n",
      "|         OneVsRestClassifier(SVC)         |  2.541825771331787  |\n",
      "|         OneVsRestClassifier(KNN)         |  1.1336822509765625 |\n",
      "|     OneVsRestClassifier(Naive Bayes)     | 0.05104637145996094 |\n",
      "|    OneVsRestClassifier(Decision Tree)    |  0.2656364440917969 |\n",
      "|  OneVsOneClassifier(LogisticRegression)  |  0.4894444942474365 |\n",
      "|         OneVsOneClassifier(SVC)          |  2.552324056625366  |\n",
      "|         OneVsOneClassifier(KNN)          |  1.1330313682556152 |\n",
      "|     OneVsOneClassifier(Naive Bayes)      | 0.05004572868347168 |\n",
      "|    OneVsOneClassifier(Decision Tree)     |  0.2542307376861572 |\n",
      "| OutputCodeClassifier(LogisticRegression) |  0.5284671783447266 |\n",
      "|        OutputCodeClassifier(SVC)         |  2.2230379581451416 |\n",
      "|        OutputCodeClassifier(KNN)         |  2.2520499229431152 |\n",
      "|    OutputCodeClassifier(Naive Bayes)     | 0.04103732109069824 |\n",
      "|   OutputCodeClassifier(Decision Tree)    |  0.5184719562530518 |\n",
      "+------------------------------------------+---------------------+\n"
     ]
    }
   ],
   "source": [
    "from prettytable import PrettyTable\n",
    "\n",
    "table = PrettyTable()\n",
    "table.field_names = [\"Model\", \"Time\"]\n",
    "\n",
    "table.add_row([\"OneVsRestClassifier(LogisticRegression)\", LR_OVRC_time])\n",
    "table.add_row([\"OneVsRestClassifier(SVC)\",  SVC_OVRC_time])\n",
    "table.add_row([\"OneVsRestClassifier(KNN)\", KNN_OVRC_time])\n",
    "table.add_row([\"OneVsRestClassifier(Naive Bayes)\",  NB_OVRC_time])\n",
    "table.add_row([\"OneVsRestClassifier(Decision Tree)\",  DT_OVRC_time])\n",
    "\n",
    "table.add_row([\"OneVsOneClassifier(LogisticRegression)\",  LR_OVO_time])\n",
    "table.add_row([\"OneVsOneClassifier(SVC)\",  SVM_OVO_time])\n",
    "table.add_row([\"OneVsOneClassifier(KNN)\",  KNN_OVO_time])\n",
    "table.add_row([\"OneVsOneClassifier(Naive Bayes)\", NB_OVO_time])\n",
    "table.add_row([\"OneVsOneClassifier(Decision Tree)\",  DT_OVO_time])\n",
    "\n",
    "table.add_row([\"OutputCodeClassifier(LogisticRegression)\",  LR_OC_time])\n",
    "table.add_row([\"OutputCodeClassifier(SVC)\",  SVM_OC_time])\n",
    "table.add_row([\"OutputCodeClassifier(KNN)\", KNN_OC_time])\n",
    "table.add_row([\"OutputCodeClassifier(Naive Bayes)\",  NB_OC_time])\n",
    "table.add_row([\"OutputCodeClassifier(Decision Tree)\", DT_OC_time])\n",
    "\n",
    "\n",
    "print(table)"
   ]
  },
  {
   "cell_type": "markdown",
   "id": "bcfc4956",
   "metadata": {},
   "source": [
    "6. Для оценки качества моделей используйте метрику AUC-ROC"
   ]
  },
  {
   "cell_type": "markdown",
   "id": "129a75bc",
   "metadata": {},
   "source": [
    "Метрика AUC-ROC использовалась при подборе гиперпараметров."
   ]
  },
  {
   "cell_type": "markdown",
   "id": "7bae29a7",
   "metadata": {},
   "source": [
    "7. Сравнить время обучения и качество всех моделей и всех стратегий. Сделать выводы"
   ]
  },
  {
   "cell_type": "code",
   "execution_count": 355,
   "id": "904afe29",
   "metadata": {},
   "outputs": [
    {
     "name": "stdout",
     "output_type": "stream",
     "text": [
      "+------------------------------------------+--------------------+---------------------+\n",
      "|                  Model                   |      Accuracy      |         Time        |\n",
      "+------------------------------------------+--------------------+---------------------+\n",
      "| OneVsRestClassifier(LogisticRegression)  | 0.8457374830852503 |  0.3673262596130371 |\n",
      "|         OneVsRestClassifier(SVC)         | 0.8728010825439784 |  2.541825771331787  |\n",
      "|         OneVsRestClassifier(KNN)         | 0.8633288227334236 |  1.1336822509765625 |\n",
      "|     OneVsRestClassifier(Naive Bayes)     | 0.6116373477672531 | 0.05104637145996094 |\n",
      "|    OneVsRestClassifier(Decision Tree)    | 0.8728010825439784 |  0.2656364440917969 |\n",
      "|  OneVsOneClassifier(LogisticRegression)  | 0.8457374830852503 |  0.4894444942474365 |\n",
      "|         OneVsOneClassifier(SVC)          | 0.8728010825439784 |  2.552324056625366  |\n",
      "|         OneVsOneClassifier(KNN)          | 0.8633288227334236 |  1.1330313682556152 |\n",
      "|     OneVsOneClassifier(Naive Bayes)      | 0.6116373477672531 | 0.05004572868347168 |\n",
      "|    OneVsOneClassifier(Decision Tree)     | 0.8728010825439784 |  0.2542307376861572 |\n",
      "| OutputCodeClassifier(LogisticRegression) | 0.8457374830852503 |  0.5284671783447266 |\n",
      "|        OutputCodeClassifier(SVC)         | 0.878213802435724  |  2.2230379581451416 |\n",
      "|        OutputCodeClassifier(KNN)         | 0.8633288227334236 |  2.2520499229431152 |\n",
      "|    OutputCodeClassifier(Naive Bayes)     | 0.6116373477672531 | 0.04103732109069824 |\n",
      "|   OutputCodeClassifier(Decision Tree)    | 0.8741542625169147 |  0.5184719562530518 |\n",
      "+------------------------------------------+--------------------+---------------------+\n"
     ]
    }
   ],
   "source": [
    "from prettytable import PrettyTable\n",
    "\n",
    "table = PrettyTable()\n",
    "table.field_names = [\"Model\", \"Accuracy\", \"Time\"]\n",
    "\n",
    "table.add_row([\"OneVsRestClassifier(LogisticRegression)\", LR_OVRC_accuracy, LR_OVRC_time])\n",
    "table.add_row([\"OneVsRestClassifier(SVC)\", SVC_OVRC_accuracy, SVC_OVRC_time])\n",
    "table.add_row([\"OneVsRestClassifier(KNN)\", KNN_OVRC_accuracy, KNN_OVRC_time])\n",
    "table.add_row([\"OneVsRestClassifier(Naive Bayes)\", NB_OVRC_accuracy, NB_OVRC_time])\n",
    "table.add_row([\"OneVsRestClassifier(Decision Tree)\", DT_OVRC_accuracy, DT_OVRC_time])\n",
    "\n",
    "table.add_row([\"OneVsOneClassifier(LogisticRegression)\", LR_OVO_accuracy, LR_OVO_time])\n",
    "table.add_row([\"OneVsOneClassifier(SVC)\", SVM_OVO_accuracy, SVM_OVO_time])\n",
    "table.add_row([\"OneVsOneClassifier(KNN)\", KNN_OVO_accuracy, KNN_OVO_time])\n",
    "table.add_row([\"OneVsOneClassifier(Naive Bayes)\", NB_OVO_accuracy, NB_OVO_time])\n",
    "table.add_row([\"OneVsOneClassifier(Decision Tree)\", DT_OVO_accuracy, DT_OVO_time])\n",
    "\n",
    "table.add_row([\"OutputCodeClassifier(LogisticRegression)\", LR_OC_accuracy, LR_OC_time])\n",
    "table.add_row([\"OutputCodeClassifier(SVC)\", SVM_OC_accuracy, SVM_OC_time])\n",
    "table.add_row([\"OutputCodeClassifier(KNN)\", KNN_OC_accuracy,KNN_OC_time])\n",
    "table.add_row([\"OutputCodeClassifier(Naive Bayes)\", NB_OC_accuracy, NB_OC_time])\n",
    "table.add_row([\"OutputCodeClassifier(Decision Tree)\",DT_OC_accuracy, DT_OC_time])\n",
    "\n",
    "\n",
    "print(table)"
   ]
  },
  {
   "cell_type": "markdown",
   "id": "98faa9ed",
   "metadata": {},
   "source": [
    "Почти одинаовые результаты у всех стратегий для SVC и Decision Tree. Худший результат у стратегий для Naive Bayes\n",
    "\n",
    "Лучшее время у OutputCode для Naive Bayes \n",
    "\n",
    "Самое плохое время у  OneVsRest для SVC"
   ]
  },
  {
   "cell_type": "markdown",
   "id": "012d22ba",
   "metadata": {},
   "source": [
    "8. Дополнительное задание (+2 балла). Повторить все пункты для задачи Multioutput Regression (регрессия с несколькими целевыми признаками, вещественными). Модель попробовать как минимум одну: Ridge. В качестве стратегий попробовать MultiOutputRegressor и RegressorChain. В качестве метрики использовать R2"
   ]
  },
  {
   "cell_type": "markdown",
   "id": "35fa5c6b",
   "metadata": {},
   "source": [
    "Возьмем в этот раз данные о курении (является ли пациент курящим)"
   ]
  },
  {
   "cell_type": "code",
   "execution_count": 361,
   "id": "dc6d38ea",
   "metadata": {},
   "outputs": [],
   "source": [
    "X = data.drop(['CLASIFFICATION_FINAL', 'TOBACCO'], axis=1)\n",
    "y = data[['CLASIFFICATION_FINAL', 'TOBACCO']]\n",
    "\n",
    "X_train, X_test, y_train, y_test = train_test_split(X, y, test_size=0.2, random_state=42)"
   ]
  },
  {
   "cell_type": "code",
   "execution_count": 362,
   "id": "a756a170",
   "metadata": {},
   "outputs": [],
   "source": [
    "scaler = StandardScaler()\n",
    "X_train_scaled = scaler.fit_transform(X_train)\n",
    "X_test_scaled = scaler.transform(X_test)"
   ]
  },
  {
   "cell_type": "markdown",
   "id": "0b316dbe",
   "metadata": {},
   "source": [
    "RegressorChain"
   ]
  },
  {
   "cell_type": "code",
   "execution_count": 363,
   "id": "59a58abb",
   "metadata": {},
   "outputs": [],
   "source": [
    "from sklearn.multioutput import RegressorChain\n",
    "from sklearn.multioutput import MultiOutputRegressor\n",
    "from sklearn.linear_model import Ridge\n",
    "from sklearn.metrics import r2_score\n",
    "\n",
    "RC_Ridge_model = RegressorChain(grid)\n",
    "\n",
    "start = time.time()\n",
    "RC_Ridge_model.fit(X_train_scaled, y_train)\n",
    "end = time.time()\n",
    "\n",
    "y_pred = RC_Ridge_model.predict(X_test_scaled)\n",
    "\n",
    "RC_Ridge_r2 = r2_score(y_test, y_pred)\n",
    "RC_Ridge_time = end - start"
   ]
  },
  {
   "cell_type": "code",
   "execution_count": 364,
   "id": "1b342af6",
   "metadata": {},
   "outputs": [
    {
     "name": "stdout",
     "output_type": "stream",
     "text": [
      "+-----------------+---------------------+--------------------+\n",
      "|      Model      |       R2 Score      |        Time        |\n",
      "+-----------------+---------------------+--------------------+\n",
      "| RegressorChain  | 0.16069309568020174 | 1.3001840114593506 |\n",
      "+-----------------+---------------------+--------------------+\n"
     ]
    }
   ],
   "source": [
    "table = PrettyTable()\n",
    "table.field_names = [\"Model\", \"R2 Score\", \"Time\"]\n",
    "\n",
    "table.add_row([\"RegressorChain \", RC_Ridge_r2, RC_Ridge_time])\n",
    "\n",
    "print(table)"
   ]
  },
  {
   "cell_type": "markdown",
   "id": "1b7c54bc",
   "metadata": {},
   "source": [
    "MultiOutputRegressor"
   ]
  },
  {
   "cell_type": "code",
   "execution_count": 381,
   "id": "98b9c56e",
   "metadata": {},
   "outputs": [],
   "source": [
    "params = {\n",
    "    'alpha': [0.001, 0.01, 0.1, 1, 10, 50, 100, 1000]\n",
    "}\n",
    "\n",
    "grid = GridSearchCV(Ridge(), params, cv=5, scoring='r2')\n",
    "\n",
    "MOC_Ridge_model = MultiOutputRegressor(grid)"
   ]
  },
  {
   "cell_type": "code",
   "execution_count": 383,
   "id": "f8f53339",
   "metadata": {},
   "outputs": [],
   "source": [
    "start = time.time()\n",
    "MOC_Ridge_model.fit(X_train_scaled, y_train)\n",
    "end = time.time()\n",
    "\n",
    "y_pred = MOC_Ridge_model.predict(X_test_scaled)\n",
    "\n",
    "MOC_Ridge_r2 = r2_score(y_test, y_pred)\n",
    "MOC_Ridge_time = end - start"
   ]
  },
  {
   "cell_type": "code",
   "execution_count": 384,
   "id": "b70623ae",
   "metadata": {},
   "outputs": [
    {
     "name": "stdout",
     "output_type": "stream",
     "text": [
      "+-----------------------+--------------------+---------------------+\n",
      "|         Model         |      R2 Score      |         Time        |\n",
      "+-----------------------+--------------------+---------------------+\n",
      "| MultiOutputRegressor  | 0.4954098713381528 | 0.09586906433105469 |\n",
      "+-----------------------+--------------------+---------------------+\n"
     ]
    }
   ],
   "source": [
    "table = PrettyTable()\n",
    "table.field_names = [\"Model\", \"R2 Score\", \"Time\"]\n",
    "\n",
    "table.add_row([\"MultiOutputRegressor \", MOC_Ridge_r2, MOC_Ridge_time])\n",
    "\n",
    "print(table)"
   ]
  },
  {
   "cell_type": "markdown",
   "id": "6834ceee",
   "metadata": {},
   "source": [
    "Время обучения, как и качество лучше у MultiOutputRegressor"
   ]
  }
 ],
 "metadata": {
  "kernelspec": {
   "display_name": "Python 3 (ipykernel)",
   "language": "python",
   "name": "python3"
  },
  "language_info": {
   "codemirror_mode": {
    "name": "ipython",
    "version": 3
   },
   "file_extension": ".py",
   "mimetype": "text/x-python",
   "name": "python",
   "nbconvert_exporter": "python",
   "pygments_lexer": "ipython3",
   "version": "3.10.8"
  }
 },
 "nbformat": 4,
 "nbformat_minor": 5
}
